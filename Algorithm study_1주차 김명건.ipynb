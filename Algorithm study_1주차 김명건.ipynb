{
 "cells": [
  {
   "cell_type": "markdown",
   "metadata": {},
   "source": [
    "# Algorism Study_frist week (07.28~08.02)\n",
    "\n",
    "## CH1& CH2 (insertion sort & merge sort)\n"
   ]
  },
  {
   "cell_type": "code",
   "execution_count": null,
   "metadata": {},
   "outputs": [],
   "source": [
    "from random import *\n",
    "A=[]\n",
    "for i in range(1,100):\n",
    "    i = randint(1, 100) \n",
    "    A.append(i)\n",
    "A"
   ]
  },
  {
   "cell_type": "code",
   "execution_count": null,
   "metadata": {},
   "outputs": [],
   "source": [
    "# insertion sort\n",
    "for i in range(1,len(A)):\n",
    "    key=A[i]\n",
    "    j=i-1\n",
    "    while j>=0 and A[j] > key:\n",
    "        A[j+1]=A[j]\n",
    "        j=j-1\n",
    "        A[j+1]=key\n",
    "print(A)"
   ]
  },
  {
   "cell_type": "code",
   "execution_count": 60,
   "metadata": {},
   "outputs": [],
   "source": [
    "#merge sort\n",
    "def merge(left, right):\n",
    "    result = []\n",
    "    while len(left) > 0 or len(right) > 0:\n",
    "        if len(left) > 0 and len(right) > 0:\n",
    "            if left[0] <= right[0]:\n",
    "                result.append(left[0])\n",
    "                left = left[1:]\n",
    "            else:\n",
    "                result.append(right[0])\n",
    "                right = right[1:]\n",
    "        elif len(left) > 0:\n",
    "            result.append(left[0])\n",
    "            left = left[1:]\n",
    "        elif len(right) > 0:\n",
    "            result.append(right[0])\n",
    "            right = right[1:]\n",
    "    return result"
   ]
  },
  {
   "cell_type": "code",
   "execution_count": 67,
   "metadata": {},
   "outputs": [
    {
     "data": {
      "text/plain": [
       "[1, 2, 3, 4, 5, 6, 7, 8, 9]"
      ]
     },
     "execution_count": 67,
     "metadata": {},
     "output_type": "execute_result"
    }
   ],
   "source": [
    "def merge(left, right):\n",
    "    order = []\n",
    "    while len(left) > 0 or len(right) > 0:\n",
    "        if len(left) > 0 and len(right) > 0:\n",
    "            if left[0] <= right[0]:\n",
    "                order.append(left[0])\n",
    "                left = left[1:]\n",
    "            else:\n",
    "                order.append(right[0])\n",
    "                right = right[1:]\n",
    "        elif len(left) > 0:\n",
    "            order.append(left[0])\n",
    "            left = left[1:]\n",
    "        elif len(right) > 0:\n",
    "            order.append(right[0])\n",
    "            right = right[1:]\n",
    "    return order\n",
    "\n",
    "def merge_sort(vec):\n",
    "    if len(vec) < 2:\n",
    "        return vec\n",
    "    mid = len(vec) // 2\n",
    "    left = vec[:mid]\n",
    "    right = vec[mid:]\n",
    "    left = merge_sort(left)\n",
    "    right = merge_sort(right)\n",
    "    return merge(left,right)\n",
    "\n",
    "merge_sort(A)\n"
   ]
  },
  {
   "cell_type": "code",
   "execution_count": 136,
   "metadata": {},
   "outputs": [
    {
     "name": "stdout",
     "output_type": "stream",
     "text": [
      "0.0030019283294677734\n"
     ]
    }
   ],
   "source": [
    "import time\n",
    "import sys, collections\n",
    "from time import strftime\n",
    "\n",
    "start_time=time.time()\n",
    "\n",
    "merge_sort(A)\n",
    "a_time= time.time()-start_time\n",
    "print(a_time)\n"
   ]
  },
  {
   "cell_type": "code",
   "execution_count": 135,
   "metadata": {},
   "outputs": [
    {
     "name": "stdout",
     "output_type": "stream",
     "text": [
      "0.006002187728881836 False\n"
     ]
    }
   ],
   "source": [
    "\n",
    "start_time=time.time()\n",
    "\n",
    "for i in range(1,len(A)):\n",
    "    key=A[i]\n",
    "    j=i-1\n",
    "    while j>=0 and A[j] > key:\n",
    "        A[j+1]=A[j]\n",
    "        j=j-1\n",
    "        A[j+1]=key\n",
    "b_time = time.time()-start_time\n",
    "print(b_time,a_time > b_time)\n",
    "\n",
    "\n"
   ]
  },
  {
   "cell_type": "code",
   "execution_count": 58,
   "metadata": {
    "scrolled": true
   },
   "outputs": [
    {
     "name": "stdout",
     "output_type": "stream",
     "text": [
      "[(0, 1, 2), (0, 2, 1), (1, 0, 2), (1, 2, 0), (2, 0, 1), (2, 1, 0)]\n"
     ]
    }
   ],
   "source": []
  },
  {
   "cell_type": "code",
   "execution_count": 88,
   "metadata": {
    "scrolled": true
   },
   "outputs": [
    {
     "name": "stdout",
     "output_type": "stream",
     "text": [
      "6210\n"
     ]
    }
   ],
   "source": [
    "#코테 1번\n",
    "def solution(array, commands):\n",
    "    answer = []\n",
    "    for  k in range(0,len(commands)):\n",
    "        A=array[commands[k][0]-1:commands[k][1]]\n",
    "        for i in range(1,len(A)):\n",
    "            key=A[i]\n",
    "            j=i-1\n",
    "            while j>=0 and A[j] > key:\n",
    "                A[j+1]=A[j]\n",
    "                j=j-1\n",
    "                A[j+1]=key\n",
    "        answer.append(A[commands[k][2]-1])\n",
    "\n",
    "    return answer\n",
    "array=[1, 5, 2, 6, 3, 7, 4]\n",
    "commands=[[2, 5, 3], [4, 4, 1], [1, 7, 3]]\n",
    "solution(array,commands)"
   ]
  },
  {
   "cell_type": "code",
   "execution_count": 91,
   "metadata": {},
   "outputs": [],
   "source": [
    "#코테2번(가장 큰 수)\n",
    "def solution(numbers):\n",
    "    import itertools\n",
    "    lst = range(0,len(numbers))\n",
    "    per=[]\n",
    "    permuatation =  itertools.permutations(lst)\n",
    "    for i in permuatation:\n",
    "        per.append(i)\n",
    "    temp2=[]\n",
    "    for j in range(0,len(per)):\n",
    "        for i in range(0,len(per[0])):\n",
    "            if i==0:\n",
    "                temp=str(numbers[per[j][i]])\n",
    "            else:\n",
    "                temp=temp+str(numbers[per[j][i]])  \n",
    "        temp2.append(int(temp))\n",
    "\n",
    "    answer = str(max(temp2))\n",
    "    return answer"
   ]
  },
  {
   "cell_type": "code",
   "execution_count": 93,
   "metadata": {},
   "outputs": [
    {
     "data": {
      "text/plain": [
       "'9534330'"
      ]
     },
     "execution_count": 93,
     "metadata": {},
     "output_type": "execute_result"
    }
   ],
   "source": [
    "solution([3,30,34,5,9])"
   ]
  },
  {
   "cell_type": "markdown",
   "metadata": {},
   "source": [
    "## 피드백 및 추가공부필요부분\n",
    "\n",
    "* map, lambda 사용\n",
    "\n",
    "\n",
    "\n",
    "* 재귀함수 호출 base\n",
    "\n",
    "\n",
    "\n",
    "* 시간복잡도 part"
   ]
  }
 ],
 "metadata": {
  "kernelspec": {
   "display_name": "Python 3",
   "language": "python",
   "name": "python3"
  },
  "language_info": {
   "codemirror_mode": {
    "name": "ipython",
    "version": 3
   },
   "file_extension": ".py",
   "mimetype": "text/x-python",
   "name": "python",
   "nbconvert_exporter": "python",
   "pygments_lexer": "ipython3",
   "version": "3.7.4"
  }
 },
 "nbformat": 4,
 "nbformat_minor": 2
}
